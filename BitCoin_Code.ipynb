{
  "nbformat": 4,
  "nbformat_minor": 0,
  "metadata": {
    "colab": {
      "name": "BitCoin_Code.ipynb",
      "provenance": [],
      "collapsed_sections": [],
      "authorship_tag": "ABX9TyOrzHi+cNp+lae7AUjC1CFa",
      "include_colab_link": true
    },
    "kernelspec": {
      "display_name": "Python 3",
      "name": "python3"
    },
    "language_info": {
      "name": "python"
    }
  },
  "cells": [
    {
      "cell_type": "markdown",
      "metadata": {
        "id": "view-in-github",
        "colab_type": "text"
      },
      "source": [
        "<a href=\"https://colab.research.google.com/github/Ashkan1377/bitcoin_Task-/blob/main/BitCoin_Code.ipynb\" target=\"_parent\"><img src=\"https://colab.research.google.com/assets/colab-badge.svg\" alt=\"Open In Colab\"/></a>"
      ]
    },
    {
      "cell_type": "code",
      "metadata": {
        "colab": {
          "base_uri": "https://localhost:8080/"
        },
        "id": "q-sv6XupWwT1",
        "outputId": "dc32f24b-1928-4eac-cdbf-b6096f677bd7"
      },
      "source": [
        "from sklearn.linear_model import LinearRegression\n",
        "from sklearn.linear_model import Ridge\n",
        "from sklearn.linear_model import Lasso\n",
        "from sklearn.svm import SVR\n",
        "import numpy as np\n",
        "import pandas as pd\n",
        "import matplotlib.pyplot as plt\n",
        "from scipy.stats.stats import pearsonr\n",
        "from scipy import stats\n",
        "from google.colab import drive\n",
        "drive.mount('/content/gdrive')"
      ],
      "execution_count": 19,
      "outputs": [
        {
          "output_type": "stream",
          "text": [
            "Drive already mounted at /content/gdrive; to attempt to forcibly remount, call drive.mount(\"/content/gdrive\", force_remount=True).\n"
          ],
          "name": "stdout"
        }
      ]
    },
    {
      "cell_type": "code",
      "metadata": {
        "colab": {
          "base_uri": "https://localhost:8080/"
        },
        "id": "KXK3V5wZW5Zj",
        "outputId": "766b56ba-8a7d-44af-af14-1c917750e5e9"
      },
      "source": [
        "my_pandas_file = pd.read_excel('/content/gdrive/My Drive/BTC.xlsx')\n",
        "y_data = my_pandas_file.get('mean')\n",
        "y_data"
      ],
      "execution_count": 20,
      "outputs": [
        {
          "output_type": "execute_result",
          "data": {
            "text/plain": [
              "0        7298.5025\n",
              "1        7363.5200\n",
              "2        7365.5975\n",
              "3        7322.9950\n",
              "4        7306.2575\n",
              "           ...    \n",
              "8995    62049.8850\n",
              "8996    62092.6850\n",
              "8997    62257.4600\n",
              "8998    62012.4200\n",
              "8999    61648.9850\n",
              "Name: mean, Length: 9000, dtype: float64"
            ]
          },
          "metadata": {
            "tags": []
          },
          "execution_count": 20
        }
      ]
    },
    {
      "cell_type": "code",
      "metadata": {
        "id": "8Hppt7UfW5ca"
      },
      "source": [
        "x_data = np.arange(0,len(y_data), 1)\n",
        "x_data_composed = x_data.reshape(-1,1)"
      ],
      "execution_count": 21,
      "outputs": []
    },
    {
      "cell_type": "code",
      "metadata": {
        "id": "UyubKPTUvJYU"
      },
      "source": [
        "#x_data = my_pandas_file.drop('mean', axis=1)"
      ],
      "execution_count": 22,
      "outputs": []
    },
    {
      "cell_type": "code",
      "metadata": {
        "colab": {
          "base_uri": "https://localhost:8080/"
        },
        "id": "lapqSU2gW5fq",
        "outputId": "f53fdcac-f772-4060-b6dc-0cf06a89986a"
      },
      "source": [
        "correlation = pearsonr(x_data, y_data)\n",
        "correlation"
      ],
      "execution_count": 23,
      "outputs": [
        {
          "output_type": "execute_result",
          "data": {
            "text/plain": [
              "(0.8759949327183532, 0.0)"
            ]
          },
          "metadata": {
            "tags": []
          },
          "execution_count": 23
        }
      ]
    },
    {
      "cell_type": "code",
      "metadata": {
        "id": "7ABRLzArW5iq"
      },
      "source": [
        "lin_regression = LinearRegression().fit(x_data_composed, y_data)\n",
        "model_line = lin_regression.predict(x_data_composed)"
      ],
      "execution_count": 24,
      "outputs": []
    },
    {
      "cell_type": "code",
      "metadata": {
        "id": "6OROzwORzMjG"
      },
      "source": [
        "# ridge = Ridge().fit(x_data_composed, y_data)\n",
        "# model_line = ridge.predict(x_data_composed)"
      ],
      "execution_count": 25,
      "outputs": []
    },
    {
      "cell_type": "code",
      "metadata": {
        "id": "eFH4lcXF6GDz"
      },
      "source": [
        "# lasso = Lasso().fit(x_data_composed, y_data)\n",
        "# model_line = lasso.predict(x_data_composed)"
      ],
      "execution_count": 26,
      "outputs": []
    },
    {
      "cell_type": "code",
      "metadata": {
        "id": "zzT90fGEgwcx"
      },
      "source": [
        "# SV_regression = SVR(kernel='poly', degree=3).fit(x_data_composed, y_data)\n",
        "# model_line = SV_regression.predict(x_data_composed)\n",
        "# print(model_line)\n",
        "# print(y_data)"
      ],
      "execution_count": 27,
      "outputs": []
    },
    {
      "cell_type": "code",
      "metadata": {
        "id": "Bom3GOrqW5la",
        "colab": {
          "base_uri": "https://localhost:8080/",
          "height": 312
        },
        "outputId": "b980a604-0196-48cd-8603-967f72f56be0"
      },
      "source": [
        "plt.plot(y_data)\n",
        "plt.plot(model_line)\n",
        "plt.xlabel('Hours')\n",
        "plt.ylabel('mean price')\n",
        "plt.title('predict mean price')\n",
        "plt.ylim(0,80000)"
      ],
      "execution_count": 28,
      "outputs": [
        {
          "output_type": "execute_result",
          "data": {
            "text/plain": [
              "(0.0, 80000.0)"
            ]
          },
          "metadata": {
            "tags": []
          },
          "execution_count": 28
        },
        {
          "output_type": "display_data",
          "data": {
            "image/png": "[encoded data removed]",
            "text/plain": [
              "<Figure size 432x288 with 1 Axes>"
            ]
          },
          "metadata": {
            "tags": [],
            "needs_background": "light"
          }
        }
      ]
    },
    {
      "cell_type": "code",
      "metadata": {
        "id": "qubpouFxcLUB"
      },
      "source": [
        "def get_prediction_interval(prediction, y_test, test_predictions, pi=.95):\n",
        "\n",
        "  '''\n",
        "Get a prediction interval for a linear regression.\n",
        "INPUTS:\n",
        "- Single prediction,\n",
        "- y_test\n",
        "- All test set predictions,\n",
        "- Prediction interval threshold (default = .95)\n",
        "OUTPUT:\n",
        "- Prediction interval for single prediction\n",
        "'''\n",
        "#get standard deviation of y_test\n",
        "  \n",
        "  sum_errs = np.sum((y_test - test_predictions)**2)\n",
        "  stdev = np.sqrt(1 / (len(y_test) - 2) * sum_errs)\n",
        "\n",
        "  #get interval from standard deviation\n",
        "\n",
        "  one_minus_pi = 1 - pi\n",
        "  ppf_lookup = 1 - (one_minus_pi / 2)\n",
        "\n",
        "  z_score = stats.norm.ppf(ppf_lookup)\n",
        "\n",
        "  interval =  stdev * z_score\n",
        "\n",
        "  #generate prediction interval lower and upper bound x_data.composed\n",
        "\n",
        "  lower, upper = prediction - interval, prediction + interval\n",
        "\n",
        "  return lower, prediction, upper\n"
      ],
      "execution_count": 29,
      "outputs": []
    },
    {
      "cell_type": "code",
      "metadata": {
        "id": "epmG3kqNd1xr",
        "colab": {
          "base_uri": "https://localhost:8080/",
          "height": 295
        },
        "outputId": "09b5b30d-ed1f-4860-f8f9-74db69ae433c"
      },
      "source": [
        "## Plot and save confidence interval of linear regression  - 95% x_data.composed\n",
        "\n",
        "lower_vet = []\n",
        "upper_vet = []\n",
        "\n",
        "for i in model_line:\n",
        "  lower, prediction, upper =  get_prediction_interval(i, y_data, model_line)\n",
        "  lower_vet.append(lower)\n",
        "  upper_vet.append(upper)\n",
        "\n",
        "plt.fill_between(np.arange(0,len(y_data),1),upper_vet, lower_vet, color='b',label='Confidence Interval')\n",
        "\n",
        "plt.plot(np.arange(0,len(y_data),1),y_data,color='orange',label='Real data')\n",
        "\n",
        "plt.plot(model_line,'k',label='polynomial-SVR')\n",
        "\n",
        "plt.xlabel('Hours')\n",
        "plt.ylabel('mean Price')\n",
        "\n",
        "plt.title('95% confidence interval')\n",
        "\n",
        "plt.legend()\n",
        "plt.ylim(-1000,80000)\n",
        "plt.show()"
      ],
      "execution_count": 30,
      "outputs": [
        {
          "output_type": "display_data",
          "data": {
            "image/png": "[encoded data removed]",
            "text/plain": [
              "<Figure size 432x288 with 1 Axes>"
            ]
          },
          "metadata": {
            "tags": [],
            "needs_background": "light"
          }
        }
      ]
    }
  ]
}