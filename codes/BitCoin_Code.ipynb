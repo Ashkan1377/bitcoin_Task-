{
  "nbformat": 4,
  "nbformat_minor": 0,
  "metadata": {
    "colab": {
      "name": "BitCoin_Code.ipynb",
      "provenance": [],
      "collapsed_sections": []
    },
    "kernelspec": {
      "name": "python3",
      "display_name": "Python 3"
    },
    "language_info": {
      "name": "python"
    }
  },
  "cells": [
    {
      "cell_type": "code",
      "metadata": {
        "colab": {
          "base_uri": "https://localhost:8080/"
        },
        "id": "q-sv6XupWwT1",
        "outputId": "86976cde-8c76-4507-fefd-7bf61e163748"
      },
      "source": [
        "from sklearn.linear_model import LinearRegression\n",
        "from sklearn.linear_model import Ridge\n",
        "from sklearn.linear_model import Lasso\n",
        "from sklearn.svm import SVR\n",
        "import numpy as np\n",
        "import pandas as pd\n",
        "import matplotlib.pyplot as plt\n",
        "from scipy.stats.stats import pearsonr\n",
        "from scipy import stats\n",
        "from google.colab import drive\n",
        "drive.mount('/content/gdrive')"
      ],
      "execution_count": 1,
      "outputs": [
        {
          "output_type": "stream",
          "text": [
            "Mounted at /content/gdrive\n"
          ],
          "name": "stdout"
        }
      ]
    },
    {
      "cell_type": "code",
      "metadata": {
        "colab": {
          "base_uri": "https://localhost:8080/"
        },
        "id": "KXK3V5wZW5Zj",
        "outputId": "1cb5811b-7abd-4a87-ac5d-1c8cd0ec4770"
      },
      "source": [
        "my_pandas_file = pd.read_excel('/content/gdrive/My Drive/BTC.xlsx')\n",
        "y_data = my_pandas_file.get('mean')\n",
        "y_data"
      ],
      "execution_count": 2,
      "outputs": [
        {
          "output_type": "execute_result",
          "data": {
            "text/plain": [
              "0        7298.5025\n",
              "1        7363.5200\n",
              "2        7365.5975\n",
              "3        7322.9950\n",
              "4        7306.2575\n",
              "           ...    \n",
              "8995    62049.8850\n",
              "8996    62092.6850\n",
              "8997    62257.4600\n",
              "8998    62012.4200\n",
              "8999    61648.9850\n",
              "Name: mean, Length: 9000, dtype: float64"
            ]
          },
          "metadata": {
            "tags": []
          },
          "execution_count": 2
        }
      ]
    },
    {
      "cell_type": "code",
      "metadata": {
        "id": "8Hppt7UfW5ca"
      },
      "source": [
        "x_data = np.arange(0,len(y_data), 1)\n",
        "x_data_composed = x_data.reshape(-1,1)"
      ],
      "execution_count": 3,
      "outputs": []
    },
    {
      "cell_type": "code",
      "metadata": {
        "id": "UyubKPTUvJYU"
      },
      "source": [
        "#x_data = my_pandas_file.drop('mean', axis=1)"
      ],
      "execution_count": null,
      "outputs": []
    },
    {
      "cell_type": "code",
      "metadata": {
        "id": "lapqSU2gW5fq",
        "colab": {
          "base_uri": "https://localhost:8080/"
        },
        "outputId": "3ba5bc37-b7d4-4004-c40e-dc31e221aacc"
      },
      "source": [
        "correlation = pearsonr(x_data, y_data)\n",
        "correlation"
      ],
      "execution_count": 4,
      "outputs": [
        {
          "output_type": "execute_result",
          "data": {
            "text/plain": [
              "(0.8759949327183532, 0.0)"
            ]
          },
          "metadata": {
            "tags": []
          },
          "execution_count": 4
        }
      ]
    },
    {
      "cell_type": "code",
      "metadata": {
        "id": "7ABRLzArW5iq"
      },
      "source": [
        "# lin_regression = LinearRegression().fit(x_data_composed, y_data)\n",
        "# model_line = lin_regression.predict(x_data_composed)"
      ],
      "execution_count": null,
      "outputs": []
    },
    {
      "cell_type": "code",
      "metadata": {
        "id": "6OROzwORzMjG"
      },
      "source": [
        "# ridge = Ridge().fit(x_data_composed, y_data)\n",
        "# model_line = ridge.predict(x_data_composed)"
      ],
      "execution_count": null,
      "outputs": []
    },
    {
      "cell_type": "code",
      "metadata": {
        "id": "eFH4lcXF6GDz"
      },
      "source": [
        "# lasso = Lasso().fit(x_data_composed, y_data)\n",
        "# model_line = lasso.predict(x_data_composed)"
      ],
      "execution_count": null,
      "outputs": []
    },
    {
      "cell_type": "code",
      "metadata": {
        "id": "zzT90fGEgwcx",
        "colab": {
          "base_uri": "https://localhost:8080/"
        },
        "outputId": "31bec1ec-b05f-48d0-b53f-80777a743e5e"
      },
      "source": [
        "SV_regression = SVR(kernel='poly', degree=3).fit(x_data_composed, y_data)\n",
        "model_line = SV_regression.predict(x_data_composed)\n",
        "print(model_line)\n",
        "print(y_data)"
      ],
      "execution_count": 5,
      "outputs": [
        {
          "output_type": "stream",
          "text": [
            "[ 8239.92627851  8239.92627858  8239.92627912 ... 64380.01227031\n",
            " 64398.7339529  64417.45979725]\n",
            "0        7298.5025\n",
            "1        7363.5200\n",
            "2        7365.5975\n",
            "3        7322.9950\n",
            "4        7306.2575\n",
            "           ...    \n",
            "8995    62049.8850\n",
            "8996    62092.6850\n",
            "8997    62257.4600\n",
            "8998    62012.4200\n",
            "8999    61648.9850\n",
            "Name: mean, Length: 9000, dtype: float64\n"
          ],
          "name": "stdout"
        }
      ]
    },
    {
      "cell_type": "code",
      "metadata": {
        "colab": {
          "base_uri": "https://localhost:8080/",
          "height": 312
        },
        "id": "Bom3GOrqW5la",
        "outputId": "d9b8a593-6fbf-4397-8636-6e90a2b896c4"
      },
      "source": [
        "plt.plot(y_data)\n",
        "plt.plot(model_line)\n",
        "plt.xlabel('Hours')\n",
        "plt.ylabel('mean price')\n",
        "plt.title('predict mean price')\n",
        "plt.ylim(0,80000)"
      ],
      "execution_count": 6,
      "outputs": [
        {
          "output_type": "execute_result",
          "data": {
            "text/plain": [
              "(0.0, 80000.0)"
            ]
          },
          "metadata": {
            "tags": []
          },
          "execution_count": 6
        },
        {
          "output_type": "display_data",
          "data": {
            "image/png": "[encoded data removed]",
            "text/plain": [
              "<Figure size 432x288 with 1 Axes>"
            ]
          },
          "metadata": {
            "tags": [],
            "needs_background": "light"
          }
        }
      ]
    },
    {
      "cell_type": "code",
      "metadata": {
        "id": "qubpouFxcLUB"
      },
      "source": [
        "def get_prediction_interval(prediction, y_test, test_predictions, pi=.95):\n",
        "\n",
        "  '''\n",
        "Get a prediction interval for a linear regression.\n",
        "INPUTS:\n",
        "- Single prediction,\n",
        "- y_test\n",
        "- All test set predictions,\n",
        "- Prediction interval threshold (default = .95)\n",
        "OUTPUT:\n",
        "- Prediction interval for single prediction\n",
        "'''\n",
        "#get standard deviation of y_test\n",
        "  \n",
        "  sum_errs = np.sum((y_test - test_predictions)**2)\n",
        "  stdev = np.sqrt(1 / (len(y_test) - 2) * sum_errs)\n",
        "\n",
        "  #get interval from standard deviation\n",
        "\n",
        "  one_minus_pi = 1 - pi\n",
        "  ppf_lookup = 1 - (one_minus_pi / 2)\n",
        "\n",
        "  z_score = stats.norm.ppf(ppf_lookup)\n",
        "\n",
        "  interval = z_score * stdev\n",
        "\n",
        "  #generate prediction interval lower and upper bound x_data.composed\n",
        "\n",
        "  lower, upper = prediction - interval, prediction + interval\n",
        "\n",
        "  return lower, prediction, upper\n"
      ],
      "execution_count": 7,
      "outputs": []
    },
    {
      "cell_type": "code",
      "metadata": {
        "colab": {
          "base_uri": "https://localhost:8080/",
          "height": 295
        },
        "id": "epmG3kqNd1xr",
        "outputId": "f8cd3b58-deda-4577-f5be-b6e9341072c2"
      },
      "source": [
        "## Plot and save confidence interval of linear regression  - 95% x_data.composed\n",
        "\n",
        "lower_vet = []\n",
        "upper_vet = []\n",
        "\n",
        "for i in model_line:\n",
        "  lower, prediction, upper =  get_prediction_interval(i, y_data, model_line)\n",
        "  lower_vet.append(lower)\n",
        "  upper_vet.append(upper)\n",
        "\n",
        "plt.fill_between(np.arange(0,len(y_data),1),upper_vet, lower_vet, color='b',label='Confidence Interval')\n",
        "\n",
        "plt.plot(np.arange(0,len(y_data),1),y_data,color='orange',label='Real data')\n",
        "\n",
        "plt.plot(model_line,'k',label='polynomial-SVR')\n",
        "\n",
        "plt.xlabel('Hours')\n",
        "plt.ylabel('mean Price')\n",
        "\n",
        "plt.title('95% confidence interval')\n",
        "\n",
        "plt.legend()\n",
        "plt.ylim(-1000,80000)\n",
        "plt.show()"
      ],
      "execution_count": 8,
      "outputs": [
        {
          "output_type": "display_data",
          "data": {
            "image/png": "[encoded data removed]",
            "text/plain": [
              "<Figure size 432x288 with 1 Axes>"
            ]
          },
          "metadata": {
            "tags": [],
            "needs_background": "light"
          }
        }
      ]
    }
  ]
}